{
  "cells": [
    {
      "cell_type": "markdown",
      "metadata": {
        "id": "view-in-github",
        "colab_type": "text"
      },
      "source": [
        "<a href=\"https://colab.research.google.com/github/Shiva1906/DeepLearning/blob/VAE/VAE/VAE.ipynb\" target=\"_parent\"><img src=\"https://colab.research.google.com/assets/colab-badge.svg\" alt=\"Open In Colab\"/></a>"
      ]
    },
    {
      "cell_type": "code",
      "execution_count": null,
      "metadata": {
        "id": "yJqawztkZ03J"
      },
      "outputs": [],
      "source": [
        "import torch\n",
        "import torchvision\n",
        "import numpy as np\n",
        "import matplotlib.pyplot as plt\n",
        "import cv2\n",
        "import torch.nn as nn\n",
        "import torch.nn.functional as F\n",
        "import torchvision.datasets as datasets\n",
        "from torch.utils.data import Dataset,DataLoader\n",
        "from torchsummary import summary\n",
        "from tqdm import tqdm"
      ]
    },
    {
      "cell_type": "markdown",
      "metadata": {
        "id": "5GNe-vdieu8_"
      },
      "source": [
        "Loading Dataset"
      ]
    },
    {
      "cell_type": "code",
      "execution_count": null,
      "metadata": {
        "id": "9nNSxmrQZ-zl"
      },
      "outputs": [],
      "source": [
        "train_data = datasets.MNIST(root='./data', train=True, download=True, transform=torchvision.transforms.ToTensor())\n",
        "test_data = datasets.MNIST(root='./data', train=False, download=True, transform=torchvision.transforms.ToTensor())"
      ]
    },
    {
      "cell_type": "code",
      "execution_count": null,
      "metadata": {
        "id": "-GMFkrp4fd2K"
      },
      "outputs": [],
      "source": [
        "train_dataloader = DataLoader(train_data,batch_size=64,shuffle=True)\n",
        "test_dataloader = DataLoader(test_data,batch_size=64,shuffle=False)\n",
        "\n",
        "train_dataloader_iter = iter(train_dataloader)\n",
        "test_dataloader_iter = iter(test_dataloader)"
      ]
    },
    {
      "cell_type": "markdown",
      "metadata": {
        "id": "ic9dIK76hhZC"
      },
      "source": [
        "UNet Model Definition"
      ]
    },
    {
      "cell_type": "code",
      "execution_count": null,
      "metadata": {
        "id": "g_FRuTXghQqs"
      },
      "outputs": [],
      "source": [
        "class UNet(nn.Module):\n",
        "  def __init__(self):\n",
        "    super(UNet,self).__init__()\n",
        "    self.conv_block_enc1 = nn.Sequential(\n",
        "        nn.Conv2d(in_channels=1,out_channels=64,kernel_size=3,stride=1,padding=1),\n",
        "        nn.ReLU(),\n",
        "        nn.Conv2d(in_channels=64,out_channels=64,kernel_size=3,stride=1,padding=1),\n",
        "        nn.ReLU()\n",
        "    )\n",
        "    self.max_pool1 = nn.MaxPool2d(kernel_size=2,stride=2)\n",
        "    self.conv_block_enc2 = nn.Sequential(\n",
        "        nn.Conv2d(in_channels=64,out_channels=128,kernel_size=3,stride=1,padding=1),\n",
        "        nn.ReLU(),\n",
        "        nn.Conv2d(in_channels=128,out_channels=128,kernel_size=3,stride=1,padding=1),\n",
        "        nn.ReLU()\n",
        "    )\n",
        "    self.max_pool2 = nn.MaxPool2d(kernel_size=2,stride=2)\n",
        "    self.conv_block_enc3 = nn.Sequential(\n",
        "        nn.Conv2d(in_channels=128,out_channels=256,kernel_size=3,stride=1,padding=1),\n",
        "        nn.ReLU(),\n",
        "        nn.Conv2d(in_channels=256,out_channels=256,kernel_size=3,stride=1,padding=1),\n",
        "        nn.ReLU()\n",
        "    )\n",
        "    self.max_pool3 = nn.MaxPool2d(kernel_size=2,stride=2)\n",
        "    self.conv_block_enc4 = nn.Sequential(\n",
        "        nn.Conv2d(in_channels=256,out_channels=512,kernel_size=3,stride=1,padding=1),\n",
        "        nn.ReLU(),\n",
        "        nn.Conv2d(in_channels=512,out_channels=512,kernel_size=3,stride=1,padding=1),\n",
        "        nn.ReLU()\n",
        "    )\n",
        "    self.max_pool4 = nn.MaxPool2d(kernel_size=2,stride=2)\n",
        "    self.conv_block_enc5 = nn.Sequential(\n",
        "        nn.Conv2d(in_channels=512,out_channels=1024,kernel_size=3,stride=1,padding=1),\n",
        "        nn.ReLU(),\n",
        "        nn.Conv2d(in_channels=1024,out_channels=1024,kernel_size=3,stride=1,padding=1),\n",
        "        nn.ReLU()\n",
        "        )\n",
        "    self.conv_transpose4 = nn.ConvTranspose2d(in_channels=1024,out_channels=512,kernel_size=2,stride=2)\n",
        "    self.conv_block_dec4 = nn.Sequential(\n",
        "        nn.Conv2d(in_channels=1024,out_channels=512,kernel_size=3,stride=1,padding=1),\n",
        "        nn.ReLU(),\n",
        "        nn.Conv2d(in_channels=512,out_channels=512,kernel_size=3,stride=1,padding=1),\n",
        "        nn.ReLU()\n",
        "    )\n",
        "    self.conv_transpose3 = nn.ConvTranspose2d(in_channels=512,out_channels=256,kernel_size=2,stride=2)\n",
        "    self.conv_block_dec3 = nn.Sequential(\n",
        "        nn.Conv2d(in_channels=512,out_channels=256,kernel_size=3,stride=1,padding=1),\n",
        "        nn.ReLU(),\n",
        "        nn.Conv2d(in_channels=256,out_channels=256,kernel_size=3,stride=1,padding=1),\n",
        "        nn.ReLU()\n",
        "    )\n",
        "    self.conv_transpose2 = nn.ConvTranspose2d(in_channels=256,out_channels=128,kernel_size=2,stride=2)\n",
        "    self.conv_block_dec2 = nn.Sequential(\n",
        "        nn.Conv2d(in_channels=256,out_channels=128,kernel_size=3,stride=1,padding=1),\n",
        "        nn.ReLU(),\n",
        "        nn.Conv2d(in_channels=128,out_channels=128,kernel_size=3,stride=1,padding=1),\n",
        "        nn.ReLU()\n",
        "    )\n",
        "    self.conv_transpose1 = nn.ConvTranspose2d(in_channels=128,out_channels=64,kernel_size=2,stride=2)\n",
        "    self.conv_block_dec1 = nn.Sequential(\n",
        "        nn.Conv2d(in_channels=128,out_channels=64,kernel_size=3,stride=1,padding=1),\n",
        "        nn.ReLU(),\n",
        "        nn.Conv2d(in_channels=64,out_channels=1,kernel_size=3,stride=1,padding=1),\n",
        "        nn.ReLU()\n",
        "    )\n",
        "\n",
        "  def forward(self,x):\n",
        "    x1 = self.conv_block_enc1(x)\n",
        "\n",
        "    x2 = self.max_pool1(x1)\n",
        "    x2 = self.conv_block_enc2(x2)\n",
        "\n",
        "    x3 = self.max_pool2(x2)\n",
        "    x3 = self.conv_block_enc3(x3)\n",
        "\n",
        "    x4 = self.max_pool3(x3)\n",
        "    x4 = self.conv_block_enc4(x4)\n",
        "\n",
        "    x5 = self.max_pool4(x4)\n",
        "    x5 = self.conv_block_enc5(x5)\n",
        "\n",
        "    y4 = self.conv_transpose4(x5)\n",
        "    y4 = self.conv_block_dec4(torch.cat((y4,x4),1))\n",
        "\n",
        "    y3 = self.conv_transpose3(y4)\n",
        "    y3 = self.conv_block_dec3(torch.cat((y3,x3),1))\n",
        "\n",
        "    y2 = self.conv_transpose2(y3)\n",
        "    y2 = self.conv_block_dec2(torch.cat((y2,x2),1))\n",
        "\n",
        "    y1 = self.conv_transpose1(y2)\n",
        "    y1 = self.conv_block_dec1(torch.cat((y1,x1),1))\n",
        "\n",
        "    return y1\n"
      ]
    },
    {
      "cell_type": "code",
      "source": [
        "class Reparameterize(nn.Module):\n",
        "  def __init__(self,):\n",
        "    super(Reparameterize,self).__init__()\n",
        "  def forward(self,mu,logvar):\n",
        "    std = torch.exp(0.5*logvar)\n",
        "    eps = torch.randn_like(std)\n",
        "    return mu + eps*std\n",
        "\n",
        "class UNet_VAE(nn.Module):\n",
        "  def __init__(self):\n",
        "    super(UNet_VAE,self).__init__()\n",
        "    encoder_features = [32,64,128,256,512]\n",
        "    decoder_features = [512,256,128,64,32]\n",
        "    self.conv_block_enc1 = nn.Sequential(\n",
        "        nn.Conv2d(in_channels=1,out_channels=encoder_features[0],kernel_size=3,stride=1,padding=1),\n",
        "        nn.ReLU(),\n",
        "        nn.Conv2d(in_channels=encoder_features[0],out_channels=encoder_features[0],kernel_size=3,stride=1,padding=1),\n",
        "        nn.ReLU()\n",
        "    )\n",
        "    self.max_pool1 = nn.MaxPool2d(kernel_size=2,stride=2)\n",
        "    self.conv_block_enc2 = nn.Sequential(\n",
        "        nn.Conv2d(in_channels=encoder_features[0],out_channels=encoder_features[1],kernel_size=3,stride=1,padding=1),\n",
        "        nn.ReLU(),\n",
        "        nn.Conv2d(in_channels=encoder_features[1],out_channels=encoder_features[1],kernel_size=3,stride=1,padding=1),\n",
        "        nn.ReLU()\n",
        "    )\n",
        "    self.max_pool2 = nn.MaxPool2d(kernel_size=2,stride=2)\n",
        "    self.conv_block_enc3 = nn.Sequential(\n",
        "        nn.Conv2d(in_channels=encoder_features[1],out_channels=encoder_features[2],kernel_size=3,stride=1,padding=1),\n",
        "        nn.ReLU(),\n",
        "        nn.Conv2d(in_channels=encoder_features[2],out_channels=encoder_features[2],kernel_size=3,stride=1,padding=1),\n",
        "        nn.ReLU()\n",
        "    )\n",
        "    self.max_pool3 = nn.MaxPool2d(kernel_size=2,stride=2)\n",
        "    self.conv_block_enc4 = nn.Sequential(\n",
        "        nn.Conv2d(in_channels=encoder_features[2],out_channels=encoder_features[3],kernel_size=3,stride=1,padding=1),\n",
        "        nn.ReLU(),\n",
        "        nn.Conv2d(in_channels=encoder_features[3],out_channels=encoder_features[3],kernel_size=3,stride=1,padding=1),\n",
        "        nn.ReLU()\n",
        "    )\n",
        "    self.max_pool4 = nn.MaxPool2d(kernel_size=2,stride=2)\n",
        "    self.conv_block_enc5 = nn.Sequential(\n",
        "        nn.Conv2d(in_channels=encoder_features[3],out_channels=encoder_features[4],kernel_size=3,stride=1,padding=1),\n",
        "        nn.ReLU(),\n",
        "        nn.Conv2d(in_channels=encoder_features[4],out_channels=encoder_features[4],kernel_size=3,stride=1,padding=1),\n",
        "        nn.ReLU()\n",
        "        )\n",
        "\n",
        "    self.flatten = nn.Flatten()\n",
        "\n",
        "    self.mu = nn.Linear(in_features=encoder_features[4]*8*8,out_features=1024)\n",
        "    self.logvar = nn.Linear(in_features=encoder_features[4]*8*8,out_features=1024)\n",
        "    self.fc1 = nn.Linear(in_features=1024,out_features=encoder_features[4]*8*8)\n",
        "    self.reparameterize = Reparameterize()\n",
        "\n",
        "    self.conv_transpose4 = nn.ConvTranspose2d(in_channels=decoder_features[0],out_channels=decoder_features[1],kernel_size=2,stride=2)\n",
        "    self.conv_block_dec4 = nn.Sequential(\n",
        "        nn.Conv2d(in_channels=decoder_features[0],out_channels=decoder_features[1],kernel_size=3,stride=1,padding=1),\n",
        "        nn.ReLU(),\n",
        "        nn.Conv2d(in_channels=decoder_features[1],out_channels=decoder_features[1],kernel_size=3,stride=1,padding=1),\n",
        "        nn.ReLU()\n",
        "    )\n",
        "    self.conv_transpose3 = nn.ConvTranspose2d(in_channels=decoder_features[1],out_channels=decoder_features[2],kernel_size=2,stride=2)\n",
        "    self.conv_block_dec3 = nn.Sequential(\n",
        "        nn.Conv2d(in_channels=decoder_features[1],out_channels=decoder_features[2],kernel_size=3,stride=1,padding=1),\n",
        "        nn.ReLU(),\n",
        "        nn.Conv2d(in_channels=decoder_features[2],out_channels=decoder_features[2],kernel_size=3,stride=1,padding=1),\n",
        "        nn.ReLU()\n",
        "    )\n",
        "    self.conv_transpose2 = nn.ConvTranspose2d(in_channels=decoder_features[2],out_channels=decoder_features[3],kernel_size=2,stride=2)\n",
        "    self.conv_block_dec2 = nn.Sequential(\n",
        "        nn.Conv2d(in_channels=decoder_features[2],out_channels=decoder_features[3],kernel_size=3,stride=1,padding=1),\n",
        "        nn.ReLU(),\n",
        "        nn.Conv2d(in_channels=decoder_features[3],out_channels=decoder_features[3],kernel_size=3,stride=1,padding=1),\n",
        "        nn.ReLU()\n",
        "    )\n",
        "    self.conv_transpose1 = nn.ConvTranspose2d(in_channels=decoder_features[3],out_channels=decoder_features[4],kernel_size=2,stride=2)\n",
        "    self.conv_block_dec1 = nn.Sequential(\n",
        "        nn.Conv2d(in_channels=decoder_features[3],out_channels=decoder_features[4],kernel_size=3,stride=1,padding=1),\n",
        "        nn.ReLU(),\n",
        "        nn.Conv2d(in_channels=decoder_features[4],out_channels=1,kernel_size=3,stride=1,padding=1),\n",
        "        nn.ReLU()\n",
        "    )\n",
        "\n",
        "  def forward(self,x):\n",
        "    x1 = self.conv_block_enc1(x)\n",
        "\n",
        "    x2 = self.max_pool1(x1)\n",
        "    x2 = self.conv_block_enc2(x2)\n",
        "\n",
        "    x3 = self.max_pool2(x2)\n",
        "    x3 = self.conv_block_enc3(x3)\n",
        "\n",
        "    x4 = self.max_pool3(x3)\n",
        "    x4 = self.conv_block_enc4(x4)\n",
        "\n",
        "    x5 = self.max_pool4(x4)\n",
        "    x5 = self.conv_block_enc5(x5)\n",
        "\n",
        "    mu = self.mu(self.flatten(x5))\n",
        "    logvar = self.logvar(self.flatten(x5))\n",
        "    x5 = self.reparameterize(mu,logvar)\n",
        "    x5 = self.fc1(x5)\n",
        "    x5 = x5.view(-1,512,8,8)\n",
        "\n",
        "    y4 = self.conv_transpose4(x5)\n",
        "    y4 = self.conv_block_dec4(torch.cat((y4,x4),1))\n",
        "\n",
        "    y3 = self.conv_transpose3(y4)\n",
        "    y3 = self.conv_block_dec3(torch.cat((y3,x3),1))\n",
        "\n",
        "    y2 = self.conv_transpose2(y3)\n",
        "    y2 = self.conv_block_dec2(torch.cat((y2,x2),1))\n",
        "\n",
        "    y1 = self.conv_transpose1(y2)\n",
        "    y1 = self.conv_block_dec1(torch.cat((y1,x1),1))\n",
        "\n",
        "    return y1,mu,logvar\n"
      ],
      "metadata": {
        "id": "JMzSKcfvLSMw"
      },
      "execution_count": null,
      "outputs": []
    },
    {
      "cell_type": "code",
      "execution_count": null,
      "metadata": {
        "colab": {
          "base_uri": "https://localhost:8080/"
        },
        "id": "4jcF9Bdg3Kyx",
        "outputId": "11f06f62-bfd0-4f6a-f58d-4cc94d87a2c9"
      },
      "outputs": [
        {
          "output_type": "stream",
          "name": "stdout",
          "text": [
            "----------------------------------------------------------------\n",
            "        Layer (type)               Output Shape         Param #\n",
            "================================================================\n",
            "            Conv2d-1         [-1, 32, 128, 128]             320\n",
            "              ReLU-2         [-1, 32, 128, 128]               0\n",
            "            Conv2d-3         [-1, 32, 128, 128]           9,248\n",
            "              ReLU-4         [-1, 32, 128, 128]               0\n",
            "         MaxPool2d-5           [-1, 32, 64, 64]               0\n",
            "            Conv2d-6           [-1, 64, 64, 64]          18,496\n",
            "              ReLU-7           [-1, 64, 64, 64]               0\n",
            "            Conv2d-8           [-1, 64, 64, 64]          36,928\n",
            "              ReLU-9           [-1, 64, 64, 64]               0\n",
            "        MaxPool2d-10           [-1, 64, 32, 32]               0\n",
            "           Conv2d-11          [-1, 128, 32, 32]          73,856\n",
            "             ReLU-12          [-1, 128, 32, 32]               0\n",
            "           Conv2d-13          [-1, 128, 32, 32]         147,584\n",
            "             ReLU-14          [-1, 128, 32, 32]               0\n",
            "        MaxPool2d-15          [-1, 128, 16, 16]               0\n",
            "           Conv2d-16          [-1, 256, 16, 16]         295,168\n",
            "             ReLU-17          [-1, 256, 16, 16]               0\n",
            "           Conv2d-18          [-1, 256, 16, 16]         590,080\n",
            "             ReLU-19          [-1, 256, 16, 16]               0\n",
            "        MaxPool2d-20            [-1, 256, 8, 8]               0\n",
            "           Conv2d-21            [-1, 512, 8, 8]       1,180,160\n",
            "             ReLU-22            [-1, 512, 8, 8]               0\n",
            "           Conv2d-23            [-1, 512, 8, 8]       2,359,808\n",
            "             ReLU-24            [-1, 512, 8, 8]               0\n",
            "          Flatten-25                [-1, 32768]               0\n",
            "           Linear-26                 [-1, 1024]      33,555,456\n",
            "          Flatten-27                [-1, 32768]               0\n",
            "           Linear-28                 [-1, 1024]      33,555,456\n",
            "   Reparameterize-29                 [-1, 1024]               0\n",
            "           Linear-30                [-1, 32768]      33,587,200\n",
            "  ConvTranspose2d-31          [-1, 256, 16, 16]         524,544\n",
            "           Conv2d-32          [-1, 256, 16, 16]       1,179,904\n",
            "             ReLU-33          [-1, 256, 16, 16]               0\n",
            "           Conv2d-34          [-1, 256, 16, 16]         590,080\n",
            "             ReLU-35          [-1, 256, 16, 16]               0\n",
            "  ConvTranspose2d-36          [-1, 128, 32, 32]         131,200\n",
            "           Conv2d-37          [-1, 128, 32, 32]         295,040\n",
            "             ReLU-38          [-1, 128, 32, 32]               0\n",
            "           Conv2d-39          [-1, 128, 32, 32]         147,584\n",
            "             ReLU-40          [-1, 128, 32, 32]               0\n",
            "  ConvTranspose2d-41           [-1, 64, 64, 64]          32,832\n",
            "           Conv2d-42           [-1, 64, 64, 64]          73,792\n",
            "             ReLU-43           [-1, 64, 64, 64]               0\n",
            "           Conv2d-44           [-1, 64, 64, 64]          36,928\n",
            "             ReLU-45           [-1, 64, 64, 64]               0\n",
            "  ConvTranspose2d-46         [-1, 32, 128, 128]           8,224\n",
            "           Conv2d-47         [-1, 32, 128, 128]          18,464\n",
            "             ReLU-48         [-1, 32, 128, 128]               0\n",
            "           Conv2d-49          [-1, 1, 128, 128]             289\n",
            "             ReLU-50          [-1, 1, 128, 128]               0\n",
            "================================================================\n",
            "Total params: 108,448,641\n",
            "Trainable params: 108,448,641\n",
            "Non-trainable params: 0\n",
            "----------------------------------------------------------------\n",
            "Input size (MB): 0.06\n",
            "Forward/backward pass size (MB): 63.40\n",
            "Params size (MB): 413.70\n",
            "Estimated Total Size (MB): 477.16\n",
            "----------------------------------------------------------------\n"
          ]
        }
      ],
      "source": [
        "# model = UNet()\n",
        "model = UNet_VAE()\n",
        "model = model.cuda()\n",
        "summary(model,(1,128,128))"
      ]
    },
    {
      "cell_type": "markdown",
      "metadata": {
        "id": "fdVgnHyJCebz"
      },
      "source": [
        "Training"
      ]
    },
    {
      "cell_type": "code",
      "execution_count": null,
      "metadata": {
        "id": "6ud9DchNGHTP"
      },
      "outputs": [],
      "source": [
        "loss_criterion = nn.L1Loss()\n",
        "\n",
        "def kl_loss(mu, logvar):\n",
        "    return -0.5 * (1 + logvar - mu.pow(2) - logvar.exp()).mean()\n",
        "\n",
        "def validation(model,test_dataloader):\n",
        "  model.eval()\n",
        "  val_loss = 0\n",
        "  for idx,(x,y) in tqdm(enumerate(test_dataloader)):\n",
        "    x = x.cuda()\n",
        "    x = F.interpolate(x,(128,128))\n",
        "    output,_,_ = model(x)\n",
        "    loss = loss_criterion(output,x)\n",
        "    val_loss += loss.item()\n",
        "  model.train()\n",
        "  return val_loss/len(test_dataloader)"
      ]
    },
    {
      "cell_type": "code",
      "execution_count": null,
      "metadata": {
        "colab": {
          "base_uri": "https://localhost:8080/"
        },
        "id": "VKV-FBrT74Jn",
        "outputId": "1d750256-f7f7-4f1d-9517-2c71fec21fe1"
      },
      "outputs": [
        {
          "output_type": "stream",
          "name": "stdout",
          "text": [
            "938\n",
            "Epoch : 0\n"
          ]
        },
        {
          "output_type": "stream",
          "name": "stderr",
          "text": [
            "938it [04:30,  3.47it/s]\n",
            "157it [00:15, 10.34it/s]\n"
          ]
        },
        {
          "output_type": "stream",
          "name": "stdout",
          "text": [
            "Validation Loss : 0.0013062203663347918\n",
            "Epoch : 1\n"
          ]
        },
        {
          "output_type": "stream",
          "name": "stderr",
          "text": [
            "938it [04:31,  3.46it/s]\n",
            "157it [00:15, 10.34it/s]\n"
          ]
        },
        {
          "output_type": "stream",
          "name": "stdout",
          "text": [
            "Validation Loss : 0.001049689980814008\n",
            "Epoch : 2\n"
          ]
        },
        {
          "output_type": "stream",
          "name": "stderr",
          "text": [
            "938it [04:30,  3.46it/s]\n",
            "157it [00:15, 10.35it/s]\n"
          ]
        },
        {
          "output_type": "stream",
          "name": "stdout",
          "text": [
            "Validation Loss : 0.0006065391256936653\n",
            "Epoch : 3\n"
          ]
        },
        {
          "output_type": "stream",
          "name": "stderr",
          "text": [
            "938it [04:30,  3.46it/s]\n",
            "157it [00:15, 10.32it/s]\n"
          ]
        },
        {
          "output_type": "stream",
          "name": "stdout",
          "text": [
            "Validation Loss : 0.0004637551343418468\n",
            "Epoch : 4\n"
          ]
        },
        {
          "output_type": "stream",
          "name": "stderr",
          "text": [
            "938it [04:30,  3.46it/s]\n",
            "157it [00:15, 10.35it/s]\n"
          ]
        },
        {
          "output_type": "stream",
          "name": "stdout",
          "text": [
            "Validation Loss : 0.0004645395600592872\n",
            "Epoch : 5\n"
          ]
        },
        {
          "output_type": "stream",
          "name": "stderr",
          "text": [
            "938it [04:30,  3.46it/s]\n",
            "157it [00:15, 10.30it/s]\n"
          ]
        },
        {
          "output_type": "stream",
          "name": "stdout",
          "text": [
            "Validation Loss : 0.000625908891611086\n"
          ]
        }
      ],
      "source": [
        "loss_criterion = nn.L1Loss()\n",
        "optimizer = torch.optim.Adam(model.parameters(),lr=0.0001)\n",
        "print(len(train_dataloader))\n",
        "for epoch in range(0,6):\n",
        "  print(\"Epoch :\",epoch)\n",
        "  for idx,(x,y) in tqdm(enumerate(train_dataloader)):\n",
        "    x = x.cuda()\n",
        "    x = F.interpolate(x,(128,128))\n",
        "    model.train()\n",
        "    output,mu,log_var = model(x)\n",
        "    loss = loss_criterion(output,x) + kl_loss(mu,log_var)\n",
        "    optimizer.zero_grad()\n",
        "    loss.backward()\n",
        "    optimizer.step()\n",
        "  accuarcy = validation(model,test_dataloader)\n",
        "  print(\"Validation Loss :\",accuarcy)\n",
        "  torch.save(model,'model.pth')"
      ]
    },
    {
      "cell_type": "code",
      "source": [
        "checkpoint = torch.load(\"model.pth\", weights_only=False)\n",
        "model.load_state_dict(checkpoint.state_dict())"
      ],
      "metadata": {
        "colab": {
          "base_uri": "https://localhost:8080/"
        },
        "id": "KVBwMV7UjJ14",
        "outputId": "5da559f1-8ba1-42d6-94f7-187b58a6593a"
      },
      "execution_count": null,
      "outputs": [
        {
          "output_type": "execute_result",
          "data": {
            "text/plain": [
              "<All keys matched successfully>"
            ]
          },
          "metadata": {},
          "execution_count": 27
        }
      ]
    },
    {
      "cell_type": "markdown",
      "metadata": {
        "id": "TrB9D4wjeo8h"
      },
      "source": []
    }
  ],
  "metadata": {
    "accelerator": "GPU",
    "colab": {
      "gpuType": "T4",
      "provenance": [],
      "authorship_tag": "ABX9TyOYAuexeUblObHKF8Sk0Uid",
      "include_colab_link": true
    },
    "kernelspec": {
      "display_name": "Python 3",
      "name": "python3"
    },
    "language_info": {
      "name": "python"
    }
  },
  "nbformat": 4,
  "nbformat_minor": 0
}